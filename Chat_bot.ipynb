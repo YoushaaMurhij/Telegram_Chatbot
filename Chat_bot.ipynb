{
  "nbformat": 4,
  "nbformat_minor": 0,
  "metadata": {
    "colab": {
      "name": "Chat_bot.ipynb",
      "version": "0.3.2",
      "provenance": [],
      "collapsed_sections": [],
      "include_colab_link": true
    },
    "language_info": {
      "codemirror_mode": {
        "name": "ipython",
        "version": 3
      },
      "file_extension": ".py",
      "mimetype": "text/x-python",
      "name": "python",
      "nbconvert_exporter": "python",
      "pygments_lexer": "ipython3",
      "version": "3.6.7"
    },
    "kernelspec": {
      "display_name": "Python 3",
      "language": "python",
      "name": "python3"
    }
  },
  "cells": [
    {
      "cell_type": "markdown",
      "metadata": {
        "id": "view-in-github",
        "colab_type": "text"
      },
      "source": [
        "<a href=\"https://colab.research.google.com/github/YoushaaMurhij/Telegram_Chatbot/blob/master/Chat_bot.ipynb\" target=\"_parent\"><img src=\"https://colab.research.google.com/assets/colab-badge.svg\" alt=\"Open In Colab\"/></a>"
      ]
    },
    {
      "cell_type": "code",
      "metadata": {
        "id": "PYh-arB7LDXE",
        "colab_type": "code",
        "outputId": "2845cf8c-ba63-4fdc-94a4-8f6edea720e6",
        "colab": {
          "base_uri": "https://localhost:8080/",
          "height": 286
        }
      },
      "source": [
        "!pip3 install python-telegram-bot"
      ],
      "execution_count": 0,
      "outputs": [
        {
          "output_type": "stream",
          "text": [
            "Collecting python-telegram-bot\n",
            "\u001b[?25l  Downloading https://files.pythonhosted.org/packages/84/6c/47932a4041ee76650ad1f45a80e1422077e1e99c08a4d7a61cfbe5393d41/python_telegram_bot-11.1.0-py2.py3-none-any.whl (326kB)\n",
            "\u001b[K     |████████████████████████████████| 327kB 2.8MB/s \n",
            "\u001b[?25hCollecting cryptography (from python-telegram-bot)\n",
            "\u001b[?25l  Downloading https://files.pythonhosted.org/packages/97/18/c6557f63a6abde34707196fb2cad1c6dc0dbff25a200d5044922496668a4/cryptography-2.7-cp34-abi3-manylinux1_x86_64.whl (2.3MB)\n",
            "\u001b[K     |████████████████████████████████| 2.3MB 49.8MB/s \n",
            "\u001b[?25hRequirement already satisfied: certifi in /usr/local/lib/python3.6/dist-packages (from python-telegram-bot) (2019.3.9)\n",
            "Requirement already satisfied: future>=0.16.0 in /usr/local/lib/python3.6/dist-packages (from python-telegram-bot) (0.16.0)\n",
            "Requirement already satisfied: cffi!=1.11.3,>=1.8 in /usr/local/lib/python3.6/dist-packages (from cryptography->python-telegram-bot) (1.12.3)\n",
            "Collecting asn1crypto>=0.21.0 (from cryptography->python-telegram-bot)\n",
            "\u001b[?25l  Downloading https://files.pythonhosted.org/packages/ea/cd/35485615f45f30a510576f1a56d1e0a7ad7bd8ab5ed7cdc600ef7cd06222/asn1crypto-0.24.0-py2.py3-none-any.whl (101kB)\n",
            "\u001b[K     |████████████████████████████████| 102kB 33.8MB/s \n",
            "\u001b[?25hRequirement already satisfied: six>=1.4.1 in /usr/local/lib/python3.6/dist-packages (from cryptography->python-telegram-bot) (1.12.0)\n",
            "Requirement already satisfied: pycparser in /usr/local/lib/python3.6/dist-packages (from cffi!=1.11.3,>=1.8->cryptography->python-telegram-bot) (2.19)\n",
            "Installing collected packages: asn1crypto, cryptography, python-telegram-bot\n",
            "Successfully installed asn1crypto-0.24.0 cryptography-2.7 python-telegram-bot-11.1.0\n"
          ],
          "name": "stdout"
        }
      ]
    },
    {
      "cell_type": "code",
      "metadata": {
        "id": "duI5-L32OkH4",
        "colab_type": "code",
        "colab": {}
      },
      "source": [
        "from telegram.ext import Updater, InlineQueryHandler, CommandHandler\n",
        "import requests\n",
        "import re\n",
        "def get_url():\n",
        "    contents = requests.get('https://random.dog/woof.json').json()\n",
        "    url = contents['url']\n",
        "    return url\n",
        "def get_image_url():\n",
        "    allowed_extension = ['jpg','jpeg','png']\n",
        "    file_extension = ''\n",
        "    while file_extension not in allowed_extension:\n",
        "        url = get_url()\n",
        "        file_extension = re.search(\"([^.]*)$\",url).group(1).lower()\n",
        "    return url\n",
        "def bop(bot, update):\n",
        "    url = get_image_url()\n",
        "    chat_id = update.message.chat_id\n",
        "    bot.send_photo(chat_id=chat_id, photo=url)\n",
        "def main():\n",
        "    updater = Updater('xxxxxxxxxx')\n",
        "    dp = updater.dispatcher\n",
        "    dp.add_handler(CommandHandler('bop',bop))\n",
        "    updater.start_polling()\n",
        "    updater.idle()\n",
        "if __name__ == '__main__':\n",
        "    main()"
      ],
      "execution_count": 0,
      "outputs": []
    }
  ]
}